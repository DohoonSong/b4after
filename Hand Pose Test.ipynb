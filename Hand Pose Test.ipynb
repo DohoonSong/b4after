{
 "cells": [
  {
   "cell_type": "code",
   "execution_count": 1,
   "id": "29d53ea4",
   "metadata": {},
   "outputs": [
    {
     "name": "stdout",
     "output_type": "stream",
     "text": [
      "Requirement already satisfied: mediapipe in c:\\users\\junyup\\appdata\\local\\programs\\python\\python39\\lib\\site-packages (0.8.7)\n",
      "Requirement already satisfied: opencv-python in c:\\users\\junyup\\appdata\\local\\programs\\python\\python39\\lib\\site-packages (4.5.3.56)\n",
      "Requirement already satisfied: protobuf>=3.11.4 in c:\\users\\junyup\\appdata\\local\\programs\\python\\python39\\lib\\site-packages (from mediapipe) (3.17.3)\n",
      "Requirement already satisfied: numpy in c:\\users\\junyup\\appdata\\local\\programs\\python\\python39\\lib\\site-packages (from mediapipe) (1.19.5)\n",
      "Requirement already satisfied: matplotlib in c:\\users\\junyup\\appdata\\local\\programs\\python\\python39\\lib\\site-packages (from mediapipe) (3.4.2)\n",
      "Requirement already satisfied: wheel in c:\\users\\junyup\\appdata\\local\\programs\\python\\python39\\lib\\site-packages (from mediapipe) (0.36.2)\n",
      "Requirement already satisfied: opencv-contrib-python in c:\\users\\junyup\\appdata\\local\\programs\\python\\python39\\lib\\site-packages (from mediapipe) (4.5.3.56)\n",
      "Requirement already satisfied: six in c:\\users\\junyup\\appdata\\local\\programs\\python\\python39\\lib\\site-packages (from mediapipe) (1.15.0)\n",
      "Requirement already satisfied: absl-py in c:\\users\\junyup\\appdata\\local\\programs\\python\\python39\\lib\\site-packages (from mediapipe) (0.13.0)\n",
      "Requirement already satisfied: attrs>=19.1.0 in c:\\users\\junyup\\appdata\\local\\programs\\python\\python39\\lib\\site-packages (from mediapipe) (21.2.0)\n",
      "Requirement already satisfied: pillow>=6.2.0 in c:\\users\\junyup\\appdata\\local\\programs\\python\\python39\\lib\\site-packages (from matplotlib->mediapipe) (8.2.0)\n",
      "Requirement already satisfied: python-dateutil>=2.7 in c:\\users\\junyup\\appdata\\local\\programs\\python\\python39\\lib\\site-packages (from matplotlib->mediapipe) (2.8.1)\n",
      "Requirement already satisfied: pyparsing>=2.2.1 in c:\\users\\junyup\\appdata\\local\\programs\\python\\python39\\lib\\site-packages (from matplotlib->mediapipe) (2.4.7)\n",
      "Requirement already satisfied: kiwisolver>=1.0.1 in c:\\users\\junyup\\appdata\\local\\programs\\python\\python39\\lib\\site-packages (from matplotlib->mediapipe) (1.3.1)\n",
      "Requirement already satisfied: cycler>=0.10 in c:\\users\\junyup\\appdata\\local\\programs\\python\\python39\\lib\\site-packages (from matplotlib->mediapipe) (0.10.0)\n"
     ]
    },
    {
     "name": "stderr",
     "output_type": "stream",
     "text": [
      "WARNING: You are using pip version 21.2.2; however, version 21.2.4 is available.\n",
      "You should consider upgrading via the 'c:\\users\\junyup\\appdata\\local\\programs\\python\\python39\\python.exe -m pip install --upgrade pip' command.\n"
     ]
    }
   ],
   "source": [
    "!pip install mediapipe opencv-python"
   ]
  },
  {
   "cell_type": "code",
   "execution_count": 2,
   "id": "4dc70398",
   "metadata": {},
   "outputs": [],
   "source": [
    "import mediapipe as mp\n",
    "import cv2\n",
    "import numpy as np\n",
    "import uuid\n",
    "import os"
   ]
  },
  {
   "cell_type": "code",
   "execution_count": 3,
   "id": "3cf85ce3",
   "metadata": {},
   "outputs": [],
   "source": [
    "mp_drawing = mp.solutions.drawing_utils\n",
    "mp_hands = mp.solutions.hands\n",
    "mp_drawing_styles = mp.solutions.drawing_styles"
   ]
  },
  {
   "cell_type": "code",
   "execution_count": 7,
   "id": "131954fe",
   "metadata": {},
   "outputs": [],
   "source": [
    "cap = cv2.VideoCapture(0)\n",
    "\n",
    "with mp_hands.Hands(min_detection_confidence=0.8, min_tracking_confidence=0.5) as hands: \n",
    "    while cap.isOpened():\n",
    "        ret, frame = cap.read()\n",
    "        \n",
    "        # BGR 2 RGB\n",
    "        image = cv2.cvtColor(frame, cv2.COLOR_BGR2RGB)\n",
    "        \n",
    "        # Flip on horizontal\n",
    "        image = cv2.flip(image, 1)\n",
    "        \n",
    "        # Set flag\n",
    "        image.flags.writeable = False\n",
    "        \n",
    "        # Detections\n",
    "        results = hands.process(image)\n",
    "        \n",
    "        # Set flag to true\n",
    "        image.flags.writeable = True\n",
    "        \n",
    "        # RGB 2 BGR\n",
    "        image = cv2.cvtColor(image, cv2.COLOR_RGB2BGR)\n",
    "        \n",
    "        # Detections\n",
    "        #print(results)\n",
    "        \n",
    "        # Rendering results\n",
    "        if results.multi_hand_landmarks:\n",
    "            for num, hand in enumerate(results.multi_hand_landmarks):\n",
    "                mp_drawing.draw_landmarks(image, hand, mp_hands.HAND_CONNECTIONS, \n",
    "                                        mp_drawing.DrawingSpec(thickness=2, circle_radius=4),\n",
    "                                        mp_drawing.DrawingSpec(thickness=2, circle_radius=2),\n",
    "                                         )\n",
    "                image_hight, image_width, _ = image.shape\n",
    "                wrist = np.array([hand.landmark[mp_hands.HandLandmark.WRIST].x * image_width, \n",
    "                              hand.landmark[mp_hands.HandLandmark.WRIST].y * image_hight])\n",
    "                thumb = np.array([hand.landmark[mp_hands.HandLandmark.THUMB_TIP].x * image_width, \n",
    "                              hand.landmark[mp_hands.HandLandmark.THUMB_TIP].y * image_hight])\n",
    "                index = np.array([hand.landmark[mp_hands.HandLandmark.INDEX_FINGER_TIP].x * image_width, \n",
    "                              hand.landmark[mp_hands.HandLandmark.INDEX_FINGER_TIP].y * image_hight])\n",
    "                middle = np.array([hand.landmark[mp_hands.HandLandmark.MIDDLE_FINGER_TIP].x * image_width, \n",
    "                              hand.landmark[mp_hands.HandLandmark.MIDDLE_FINGER_TIP].y * image_hight])\n",
    "                ring = np.array([hand.landmark[mp_hands.HandLandmark.RING_FINGER_TIP].x * image_width, \n",
    "                              hand.landmark[mp_hands.HandLandmark.RING_FINGER_TIP].y * image_hight])\n",
    "                pinky = np.array([hand.landmark[mp_hands.HandLandmark.PINKY_TIP].x * image_width, \n",
    "                             hand.landmark[mp_hands.HandLandmark.PINKY_TIP].y * image_hight])\n",
    "                np.set_printoptions(formatter={'float_kind': lambda x: \"{0:0.2f}\".format(x)})\n",
    "                cv2.putText(image, \"Thumb \"+\"{0:0.2f}\".format(np.sqrt((thumb[0]-wrist[0])**2+(thumb[1]-wrist[1])**2)), (0,20), cv2.FONT_HERSHEY_SIMPLEX, 0.5, (255, 255, 255), 2, cv2.LINE_AA)\n",
    "                cv2.putText(image, \" Index \"+ \"{0:0.2f}\".format(np.sqrt((index[0]-wrist[0])**2+(index[1]-wrist[1])**2)), (0,40), cv2.FONT_HERSHEY_SIMPLEX, 0.5, (255, 255, 255), 2, cv2.LINE_AA)\n",
    "                cv2.putText(image, \"Middle \"+ \"{0:0.2f}\".format(np.sqrt((middle[0]-wrist[0])**2+(middle[1]-wrist[1])**2)), (0,60), cv2.FONT_HERSHEY_SIMPLEX, 0.5, (255, 255, 255), 2, cv2.LINE_AA)\n",
    "                cv2.putText(image, \"  Ring \"+ \"{0:0.2f}\".format(np.sqrt((ring[0]-wrist[0])**2+(ring[1]-wrist[1])**2)), (0,80), cv2.FONT_HERSHEY_SIMPLEX, 0.5, (255, 255, 255), 2, cv2.LINE_AA)\n",
    "                cv2.putText(image, \" Pinky \"+ \"{0:0.2f}\".format(np.sqrt((pinky[0]-wrist[0])**2+(pinky[1]-wrist[1])**2)), (0,100), cv2.FONT_HERSHEY_SIMPLEX, 0.5, (255, 255, 255), 2, cv2.LINE_AA)\n",
    "                hand_size = np.array([(hand.landmark[mp_hands.HandLandmark.THUMB_CMC].x-hand.landmark[mp_hands.HandLandmark.PINKY_MCP].x) * image_width, \n",
    "                             (hand.landmark[mp_hands.HandLandmark.THUMB_CMC].y-hand.landmark[mp_hands.HandLandmark.PINKY_MCP].y) * image_hight])\n",
    "                cv2.rectangle(image, (int(thumb[0]), int(middle[1])), (int(pinky[0]), int(wrist[1])), (255, 255, 255), 1)\n",
    "\n",
    "                #cv2.putText(image, \" Hand Size \"+str(hand_size), (0,20), cv2.FONT_HERSHEY_SIMPLEX, 0.5, (0, 0, 0), 2, cv2.LINE_AA)\n",
    "        cv2.imshow('Hand Tracking (Press `q` to Quit)', image)\n",
    "\n",
    "        if cv2.waitKey(10) & 0xFF == ord('q'):\n",
    "            break\n",
    "\n",
    "cap.release()\n",
    "cv2.destroyAllWindows()"
   ]
  },
  {
   "cell_type": "code",
   "execution_count": null,
   "id": "64d7bc90",
   "metadata": {},
   "outputs": [],
   "source": []
  },
  {
   "cell_type": "markdown",
   "id": "23c192a5",
   "metadata": {},
   "source": [
    "<img src=https://i.imgur.com/qpRACer.png />"
   ]
  },
  {
   "cell_type": "code",
   "execution_count": null,
   "id": "579125e7",
   "metadata": {},
   "outputs": [],
   "source": [
    "#mp_hands.HandLandmark.THUMB_TIP"
   ]
  },
  {
   "cell_type": "code",
   "execution_count": null,
   "id": "41ce28cf",
   "metadata": {},
   "outputs": [],
   "source": []
  }
 ],
 "metadata": {
  "kernelspec": {
   "display_name": "Python 3",
   "language": "python",
   "name": "python3"
  },
  "language_info": {
   "codemirror_mode": {
    "name": "ipython",
    "version": 3
   },
   "file_extension": ".py",
   "mimetype": "text/x-python",
   "name": "python",
   "nbconvert_exporter": "python",
   "pygments_lexer": "ipython3",
   "version": "3.9.5"
  }
 },
 "nbformat": 4,
 "nbformat_minor": 5
}
